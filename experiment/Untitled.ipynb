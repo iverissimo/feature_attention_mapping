{
 "cells": [
  {
   "cell_type": "code",
   "execution_count": null,
   "metadata": {},
   "outputs": [],
   "source": [
    "# import relevant packages\n",
    "import sys\n",
    "import appnope\n",
    "from session import PRFSession\n",
    "\n",
    "\n",
    "# define main function\n",
    "def main():\n",
    "    \n",
    "    # take user input\n",
    "    \n",
    "    # define participant number and open json parameter file\n",
    "    if len(sys.argv) < 2:\n",
    "        raise NameError('Please add subject number (ex:1) '\n",
    "                        'as 1st argument in the command line!')\n",
    "\n",
    "    elif len(sys.argv) < 3:\n",
    "        raise NameError('Please add run number (ex:1) '\n",
    "                        'as 2nd argument in the command line!')\n",
    "    \n",
    "    sj_num = str(sys.argv[1]).zfill(2) # subject number\n",
    "    run_num = str(sys.argv[2]).zfill(2) # run number\n",
    "    \n",
    "    print('Running experiment for subject-%s, run-%s'%(sj_num,run_num))\n",
    "    \n",
    "    appnope.nope() # disable power saving feature of Mac\n",
    "    \n",
    "    session = PRFSession(sj = sj_num,\n",
    "                         run = run_num,\n",
    "                         scanner = False,\n",
    "                         tracker_on = False)\n",
    "                         \n",
    "    session.run()\n",
    "\n",
    "if __name__ == '__main__': #\n",
    "    main()\n"
   ]
  },
  {
   "cell_type": "code",
   "execution_count": null,
   "metadata": {},
   "outputs": [],
   "source": [
    "############# session.py ####"
   ]
  },
  {
   "cell_type": "code",
   "execution_count": 3,
   "metadata": {},
   "outputs": [],
   "source": [
    "sj_num = '00'\n",
    "run_num = '00'"
   ]
  },
  {
   "cell_type": "code",
   "execution_count": 4,
   "metadata": {},
   "outputs": [
    {
     "name": "stdout",
     "output_type": "stream",
     "text": [
      "pygame 1.9.6\n",
      "Hello from the pygame community. https://www.pygame.org/contribute.html\n",
      "saving files in /Users/verissimo/Documents/Projects/Feature_based_attention_mapping/feature_attention_mapping/output\n"
     ]
    }
   ],
   "source": [
    "import os\n",
    "import numpy as np\n",
    "from exptools2.core import Session\n",
    "\n",
    "from trial import PRFTrial\n",
    "\n",
    "base_dir = os.path.split(os.getcwd())[0] # main path for all folders of project\n",
    "output_dir = os.path.join(base_dir,'output')\n",
    "\n",
    "# if output path doesn't exist, create it\n",
    "if not os.path.isdir(output_dir): \n",
    "    os.mkdir(output_dir)\n",
    "print('saving files in %s'%output_dir)\n",
    "\n",
    "# string for output data\n",
    "output_str = 'sub-%s_ses-01_task-prf_run-%s'%(sj_num,run_num) \n",
    "\n"
   ]
  },
  {
   "cell_type": "code",
   "execution_count": 22,
   "metadata": {},
   "outputs": [],
   "source": [
    "class PRFSession(Session):\n",
    "    def __init__(self, sj, run,scanner=False,tracker_on=False,n_trials=7):\n",
    "        \n",
    "        # need to initialize parent class, indicating output infos\n",
    "        super().__init__(output_str,output_dir=output_dir,settings_file='experiment_settings.yml')\n",
    "        \n",
    "        self.n_trials = n_trials  # number of trials per session\n",
    "        self.trials = []  # will be filled with Trials later\n",
    "        \n",
    "    def create_trials(self):\n",
    "        \"\"\" Creates trials (before running the session) \"\"\"\n",
    "        \n",
    "        for i in range(self.n_trials): # for all trials\n",
    "            # set trial\n",
    "            trial = PRFTrial(session=self, \n",
    "                             trial_nr=i,\n",
    "                             phase_durations=(2, 1), # duration of each phase of the trial\n",
    "                             timing='seconds', # in seconds\n",
    "                             phase_names=('word', 'fix'),) # names for each phase (stored in log)\n",
    "            # append in list\n",
    "            self.trials.append(PRFTrial)\n",
    "    \n",
    "    def run(self):\n",
    "        \"\"\" Loops over trials and runs them \"\"\"\n",
    "        \n",
    "        self.create_trials()  # create trials before running!\n",
    "        self.start_experiment()\n",
    "        \n",
    "        for trial in self.trials: # run all\n",
    "            trial.run()\n",
    "            \n",
    "        self.close() # close session\n",
    "        \n"
   ]
  },
  {
   "cell_type": "code",
   "execution_count": 17,
   "metadata": {},
   "outputs": [],
   "source": [
    "#### put in trial.py##"
   ]
  },
  {
   "cell_type": "code",
   "execution_count": 21,
   "metadata": {},
   "outputs": [],
   "source": [
    "import os\n",
    "import numpy as np\n",
    "from exptools2.core import Trial\n",
    "\n",
    "class PRFTrial(Trial):\n",
    "        \n",
    "        def __init__(self, session, trial_nr, phase_durations, phase_names,\n",
    "                 parameters, timing, load_next_during_phase, \n",
    "                 verbose):\n",
    "            \"\"\" Initializes a StroopTrial object. \n",
    "\n",
    "            Parameters\n",
    "            ----------\n",
    "            session : exptools Session object\n",
    "                A Session object (needed for metadata)\n",
    "            trial_nr: int\n",
    "                Trial nr of trial\n",
    "            phase_durations : array-like\n",
    "                List/tuple/array with phase durations\n",
    "            phase_names : array-like\n",
    "                List/tuple/array with names for phases (only for logging),\n",
    "                optional (if None, all are named 'stim')\n",
    "            parameters : dict\n",
    "                Dict of parameters that needs to be added to the log of this trial\n",
    "            timing : str\n",
    "                The \"units\" of the phase durations. Default is 'seconds', where we\n",
    "                assume the phase-durations are in seconds. The other option is\n",
    "                'frames', where the phase-\"duration\" refers to the number of frames.\n",
    "            load_next_during_phase : int (or None)\n",
    "                If not None, the next trial will be loaded during this phase\n",
    "            verbose : bool\n",
    "                Whether to print extra output (mostly timing info)\n",
    "            \"\"\"\n",
    "            \n",
    "            super().__init__(session, trial_nr, phase_durations, phase_names,\n",
    "                         parameters, timing, verbose, load_next_during_phase)\n",
    "            \n",
    "            # define fixation dot\n",
    "            self.fixation_dot = Circle(self.session.win, radius=0.1, edges=100)\n",
    "\n",
    "            self.word = TextStim(self.session.win, text='red', color=(255, 0, 0))  # red!\n",
    "            \n",
    "        # draw stimuli depending on phase of trial\n",
    "        def draw(self):\n",
    "            if self.phase == 0: \n",
    "                self.fixation_dot.draw()\n",
    "            else:  # assuming that there are only 2 phases\n",
    "                self.word.draw()"
   ]
  },
  {
   "cell_type": "code",
   "execution_count": 5,
   "metadata": {},
   "outputs": [
    {
     "data": {
      "text/plain": [
       "array([0.        , 0.78539816, 1.57079633, 2.35619449, 3.14159265,\n",
       "       3.92699082, 4.71238898, 5.49778714])"
      ]
     },
     "execution_count": 5,
     "metadata": {},
     "output_type": "execute_result"
    }
   ],
   "source": [
    "np.linspace(0, 2.0 * np.pi, 8, endpoint=False)"
   ]
  },
  {
   "cell_type": "code",
   "execution_count": 6,
   "metadata": {},
   "outputs": [],
   "source": [
    "import yaml"
   ]
  },
  {
   "cell_type": "code",
   "execution_count": 16,
   "metadata": {},
   "outputs": [],
   "source": [
    "with open('experiment_settings.yml', 'r') as f_in:\n",
    "    default_settings = yaml.safe_load(f_in)"
   ]
  },
  {
   "cell_type": "code",
   "execution_count": 17,
   "metadata": {},
   "outputs": [
    {
     "data": {
      "text/plain": [
       "{'num_elements': 2000,\n",
       " 'element_spatial_frequency': 2,\n",
       " 'element_size': 45.0,\n",
       " 'fixation_size': 0.15,\n",
       " 'bar_width_ratio': 0.125,\n",
       " 'bar_pass_hor_TR': 15,\n",
       " 'bar_pass_ver_TR': 10,\n",
       " 'ITI_TR': 1,\n",
       " 'blank_TR': 5}"
      ]
     },
     "execution_count": 17,
     "metadata": {},
     "output_type": "execute_result"
    }
   ],
   "source": [
    "default_settings['stimuli']"
   ]
  },
  {
   "cell_type": "code",
   "execution_count": 18,
   "metadata": {},
   "outputs": [],
   "source": [
    "bar_width = 1680*0.125\n",
    "midpoint = 0"
   ]
  },
  {
   "cell_type": "code",
   "execution_count": 19,
   "metadata": {},
   "outputs": [
    {
     "data": {
      "text/plain": [
       "[105.0, 105.0]"
      ]
     },
     "execution_count": 19,
     "metadata": {},
     "output_type": "execute_result"
    }
   ],
   "source": [
    "[bar_width/2-midpoint,bar_width/2+midpoint]"
   ]
  },
  {
   "cell_type": "code",
   "execution_count": 20,
   "metadata": {},
   "outputs": [
    {
     "data": {
      "text/plain": [
       "{'size': [1680, 1050],\n",
       " 'pos': [0, 0],\n",
       " 'color': [0, 0, 0],\n",
       " 'fullscr': True,\n",
       " 'waitBlanking': True}"
      ]
     },
     "execution_count": 20,
     "metadata": {},
     "output_type": "execute_result"
    }
   ],
   "source": [
    "default_settings['window']"
   ]
  },
  {
   "cell_type": "code",
   "execution_count": 21,
   "metadata": {},
   "outputs": [],
   "source": [
    "settings = default_settings"
   ]
  },
  {
   "cell_type": "code",
   "execution_count": 24,
   "metadata": {},
   "outputs": [],
   "source": [
    "trial_type = np.concatenate((np.repeat('blank',settings['stimuli']['blank_TR']),\n",
    "                                          np.repeat('LR',settings['stimuli']['bar_pass_hor_TR']),\n",
    "                                          np.repeat('TB',settings['stimuli']['bar_pass_ver_TR']),\n",
    "                                          np.repeat('blank',settings['stimuli']['blank_TR']),\n",
    "                                          np.repeat('BT',settings['stimuli']['bar_pass_ver_TR']),\n",
    "                                          np.repeat('LR',settings['stimuli']['bar_pass_hor_TR']),\n",
    "                                          np.repeat('blank',settings['stimuli']['blank_TR'])\n",
    "                                          ))"
   ]
  },
  {
   "cell_type": "code",
   "execution_count": 25,
   "metadata": {},
   "outputs": [
    {
     "data": {
      "text/plain": [
       "'blank'"
      ]
     },
     "execution_count": 25,
     "metadata": {},
     "output_type": "execute_result"
    }
   ],
   "source": [
    "trial_type[0]"
   ]
  },
  {
   "cell_type": "code",
   "execution_count": 26,
   "metadata": {},
   "outputs": [
    {
     "data": {
      "text/plain": [
       "65"
      ]
     },
     "execution_count": 26,
     "metadata": {},
     "output_type": "execute_result"
    }
   ],
   "source": [
    "len(trial_type)"
   ]
  },
  {
   "cell_type": "code",
   "execution_count": 29,
   "metadata": {},
   "outputs": [
    {
     "ename": "TypeError",
     "evalue": "iteration over a 0-d array",
     "output_type": "error",
     "traceback": [
      "\u001b[0;31m---------------------------------------------------------------------------\u001b[0m",
      "\u001b[0;31mTypeError\u001b[0m                                 Traceback (most recent call last)",
      "\u001b[0;32m<ipython-input-29-61ad51767810>\u001b[0m in \u001b[0;36m<module>\u001b[0;34m\u001b[0m\n\u001b[0;32m----> 1\u001b[0;31m \u001b[0mlist\u001b[0m\u001b[0;34m(\u001b[0m\u001b[0mnp\u001b[0m\u001b[0;34m.\u001b[0m\u001b[0marray\u001b[0m\u001b[0;34m(\u001b[0m\u001b[0;36m1.6\u001b[0m\u001b[0;34m)\u001b[0m\u001b[0;34m)\u001b[0m\u001b[0;34m\u001b[0m\u001b[0;34m\u001b[0m\u001b[0m\n\u001b[0m",
      "\u001b[0;31mTypeError\u001b[0m: iteration over a 0-d array"
     ]
    }
   ],
   "source": [
    "list(np.array(1.6))"
   ]
  },
  {
   "cell_type": "code",
   "execution_count": null,
   "metadata": {},
   "outputs": [],
   "source": []
  }
 ],
 "metadata": {
  "kernelspec": {
   "display_name": "Python 3",
   "language": "python",
   "name": "python3"
  },
  "language_info": {
   "codemirror_mode": {
    "name": "ipython",
    "version": 3
   },
   "file_extension": ".py",
   "mimetype": "text/x-python",
   "name": "python",
   "nbconvert_exporter": "python",
   "pygments_lexer": "ipython3",
   "version": "3.6.9"
  }
 },
 "nbformat": 4,
 "nbformat_minor": 2
}
